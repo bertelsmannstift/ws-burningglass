{
 "cells": [
  {
   "cell_type": "markdown",
   "metadata": {},
   "source": [
    "# Setup"
   ]
  },
  {
   "cell_type": "code",
   "execution_count": null,
   "metadata": {},
   "outputs": [],
   "source": [
    "# Load the relevant environment variables\n",
    "%load_ext dotenv\n",
    "%dotenv -v ../.env\n",
    "\n",
    "# import the db_module for database access\n",
    "import sys\n",
    "import os\n",
    "from pathlib import Path\n",
    "\n",
    "db_module = Path(os.path.dirname(os.path.realpath(\"__file__\"))).parent / 'src'\n",
    "sys.path.append(str(db_module))\n",
    "\n",
    "# setup sql connection\n",
    "%load_ext sql\n",
    "\n",
    "from utils.settings import settings\n",
    "\n",
    "%sql postgresql+psycopg2://{settings.DB_USER}:{settings.DB_PASSWORD}@{settings.DB_HOST}:{settings.DB_PORT}/{settings.DB_DATABASE}"
   ]
  },
  {
   "cell_type": "markdown",
   "metadata": {},
   "source": [
    "# Use SQL directly"
   ]
  },
  {
   "cell_type": "code",
   "execution_count": null,
   "metadata": {
    "vscode": {
     "languageId": "sql"
    }
   },
   "outputs": [],
   "source": [
    "%%sql\n",
    "\n",
    "SELECT * FROM burningglass_f_postings limit 100;"
   ]
  },
  {
   "cell_type": "markdown",
   "metadata": {},
   "source": [
    "# Load SQL-Query into a dataframe to go on working with python"
   ]
  },
  {
   "cell_type": "code",
   "execution_count": null,
   "metadata": {},
   "outputs": [],
   "source": [
    "result = %sql SELECT * FROM burningglass_f_postings limit 100;\n",
    "dataframe = result.DataFrame()\n",
    "dataframe.info()\n"
   ]
  }
 ],
 "metadata": {
  "interpreter": {
   "hash": "7e527897a1fe61cd1304ad1956ce915870b5884387ec8d1518f6b908d999ac94"
  },
  "kernelspec": {
   "display_name": "Python 3.8.10 ('venv': venv)",
   "language": "python",
   "name": "python3"
  },
  "language_info": {
   "codemirror_mode": {
    "name": "ipython",
    "version": 3
   },
   "file_extension": ".py",
   "mimetype": "text/x-python",
   "name": "python",
   "nbconvert_exporter": "python",
   "pygments_lexer": "ipython3",
   "version": "3.8.10"
  },
  "orig_nbformat": 4
 },
 "nbformat": 4,
 "nbformat_minor": 2
}
