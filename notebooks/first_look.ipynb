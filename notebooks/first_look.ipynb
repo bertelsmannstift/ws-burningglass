{
 "cells": [
  {
   "cell_type": "markdown",
   "metadata": {},
   "source": [
    "# Setup"
   ]
  },
  {
   "cell_type": "code",
   "execution_count": null,
   "metadata": {},
   "outputs": [],
   "source": [
    "# Load the relevant environment variables\n",
    "%load_ext dotenv\n",
    "%dotenv -v ../../.env\n",
    "\n",
    "# activate autoreloading of modules\n",
    "%load_ext autoreload\n",
    "%autoreload 2\n",
    "\n",
    "# import the db_module for database access\n",
    "import sys\n",
    "import os\n",
    "from pathlib import Path\n",
    "\n",
    "db_module = Path(os.path.dirname(os.path.realpath(\"__file__\"))).parent / 'src'\n",
    "sys.path.append(str(db_module))"
   ]
  },
  {
   "cell_type": "markdown",
   "metadata": {},
   "source": [
    "# Query the database using SQLAlchemy"
   ]
  },
  {
   "cell_type": "code",
   "execution_count": null,
   "metadata": {},
   "outputs": [],
   "source": [
    "from models.burningglass import BurningGlassPosting\n",
    "from models.professions import OnetProfession\n",
    "from models.textkernel import TextkernelPosting\n",
    "from database.sql_session import session_scope\n",
    "from database.sql import engine\n",
    "import pandas as pd\n",
    "\n",
    "# create a database session\n",
    "with session_scope() as session:\n",
    "    # query 100 textkernel postings from 2021\n",
    "    tk_postings = pd.read_sql_query(\n",
    "        sql = session.query(TextkernelPosting)\\\n",
    "            .filter(TextkernelPosting.published_at >= '20210101', TextkernelPosting.published_at < '20210131')\\\n",
    "            .limit(100)\\\n",
    "            .statement,\n",
    "        con = engine\n",
    "    )\n",
    "\n",
    "    # query 100 burningglass postings from 2021\n",
    "    bg_postings = pd.read_sql_query(\n",
    "        sql = session.query(BurningGlassPosting)\\\n",
    "            .filter(BurningGlassPosting.year_grab_date == 2021)\\\n",
    "            .filter(BurningGlassPosting.month_grab_date == 1)\\\n",
    "            .filter(BurningGlassPosting.day_grab_date >= 1)\\\n",
    "            .filter(BurningGlassPosting.day_grab_date <= 31)\\\n",
    "            .limit(100)\\\n",
    "            .statement,\n",
    "        con = engine\n",
    "    )\n"
   ]
  },
  {
   "cell_type": "markdown",
   "metadata": {},
   "source": [
    "# Show the results"
   ]
  },
  {
   "cell_type": "code",
   "execution_count": null,
   "metadata": {},
   "outputs": [],
   "source": [
    "# Lets see textkernel postings\n",
    "tk_postings"
   ]
  },
  {
   "cell_type": "code",
   "execution_count": null,
   "metadata": {},
   "outputs": [],
   "source": [
    "# Lets see burningglass postings\n",
    "bg_postings"
   ]
  },
  {
   "cell_type": "markdown",
   "metadata": {},
   "source": [
    "# Get the full text data"
   ]
  },
  {
   "cell_type": "code",
   "execution_count": null,
   "metadata": {},
   "outputs": [],
   "source": [
    "from utils.sftp_controller import Controller\n",
    "\n",
    "sftp_controller = Controller()\n",
    "\n",
    "id = tk_postings['id'][0]\n",
    "published_at = tk_postings['published_at'][0]\n",
    "\n",
    "obj = sftp_controller.get_file(id, published_at)\n",
    "\n",
    "obj\n",
    "    "
   ]
  }
 ],
 "metadata": {
  "interpreter": {
   "hash": "7e527897a1fe61cd1304ad1956ce915870b5884387ec8d1518f6b908d999ac94"
  },
  "kernelspec": {
   "display_name": "Python 3.8.10 ('venv': venv)",
   "language": "python",
   "name": "python3"
  },
  "language_info": {
   "codemirror_mode": {
    "name": "ipython",
    "version": 3
   },
   "file_extension": ".py",
   "mimetype": "text/x-python",
   "name": "python",
   "nbconvert_exporter": "python",
   "pygments_lexer": "ipython3",
   "version": "3.8.10"
  },
  "orig_nbformat": 4
 },
 "nbformat": 4,
 "nbformat_minor": 2
}
