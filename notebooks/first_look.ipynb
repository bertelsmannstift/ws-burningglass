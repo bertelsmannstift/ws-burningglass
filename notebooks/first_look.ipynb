{
 "cells": [
  {
   "cell_type": "code",
   "execution_count": 15,
   "metadata": {},
   "outputs": [
    {
     "name": "stdout",
     "output_type": "stream",
     "text": [
      "The autoreload extension is already loaded. To reload it, use:\n",
      "  %reload_ext autoreload\n",
      "['/home/leo/workspace/ws-burningglass/notebooks', '/usr/lib/python38.zip', '/usr/lib/python3.8', '/usr/lib/python3.8/lib-dynload', '', '/home/leo/workspace/ws-burningglass/venv/lib/python3.8/site-packages', '/home/leo/.local/lib/python3.8/site-packages', PosixPath('/home/leo/workspace/ws-burningglass/src'), '/home/leo/workspace/ws-burningglass/src', '/home/leo/workspace/ws-burningglass/src', '/home/leo/workspace/ws-burningglass']\n"
     ]
    }
   ],
   "source": [
    "%load_ext autoreload\n",
    "%autoreload 2\n",
    "\n",
    "import sys\n",
    "import os\n",
    "from pathlib import Path\n",
    "\n",
    "db_module = Path(os.path.dirname(os.path.realpath(\"__file__\"))).parent\n",
    "sys.path.append(str(db_module))"
   ]
  },
  {
   "cell_type": "code",
   "execution_count": 16,
   "metadata": {},
   "outputs": [
    {
     "name": "stdout",
     "output_type": "stream",
     "text": [
      "DEUTSCHLAND\n"
     ]
    }
   ],
   "source": [
    "from src.models.burningglass import BurningGlassCountry\n",
    "from src.database.sql_session import session_scope\n",
    "\n",
    "with session_scope() as session:\n",
    "    countries = session.query(BurningGlassCountry).all()\n",
    "\n",
    "    for country in countries:\n",
    "        print(country.title)"
   ]
  },
  {
   "cell_type": "code",
   "execution_count": null,
   "metadata": {},
   "outputs": [],
   "source": []
  }
 ],
 "metadata": {
  "interpreter": {
   "hash": "7e527897a1fe61cd1304ad1956ce915870b5884387ec8d1518f6b908d999ac94"
  },
  "kernelspec": {
   "display_name": "Python 3.8.10 ('venv': venv)",
   "language": "python",
   "name": "python3"
  },
  "language_info": {
   "codemirror_mode": {
    "name": "ipython",
    "version": 3
   },
   "file_extension": ".py",
   "mimetype": "text/x-python",
   "name": "python",
   "nbconvert_exporter": "python",
   "pygments_lexer": "ipython3",
   "version": "3.8.10"
  },
  "orig_nbformat": 4
 },
 "nbformat": 4,
 "nbformat_minor": 2
}
